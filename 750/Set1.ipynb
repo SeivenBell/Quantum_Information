{
 "cells": [
  {
   "cell_type": "code",
   "execution_count": 7,
   "metadata": {},
   "outputs": [
    {
     "data": {
      "text/plain": [
       "1×2 adjoint(::Vector{Float64}) with eltype Float64:\n",
       " 0.894427  0.447214"
      ]
     },
     "metadata": {},
     "output_type": "display_data"
    },
    {
     "name": "stdout",
     "output_type": "stream",
     "text": [
      "Density matrix ρψ:\n"
     ]
    },
    {
     "data": {
      "text/plain": [
       "2-element Vector{Float64}:\n",
       " 0.8944271909999157\n",
       " 0.44721359549995787"
      ]
     },
     "metadata": {},
     "output_type": "display_data"
    },
    {
     "data": {
      "text/plain": [
       "2-element Vector{ComplexF64}:\n",
       " -0.44721359549995787 + 0.0im\n",
       "                  0.0 + 0.8944271909999157im"
      ]
     },
     "metadata": {},
     "output_type": "display_data"
    },
    {
     "data": {
      "text/plain": [
       "2×2 Matrix{ComplexF64}:\n",
       "      0.4+0.0im       0.133333+0.266667im\n",
       " 0.133333-0.266667im       0.6+0.0im"
      ]
     },
     "metadata": {},
     "output_type": "display_data"
    },
    {
     "data": {
      "text/plain": [
       "2×2 Matrix{ComplexF64}:\n",
       " 0.248889+0.0im       0.133333+0.266667im\n",
       " 0.133333-0.266667im  0.448889+0.0im"
      ]
     },
     "metadata": {},
     "output_type": "display_data"
    },
    {
     "name": "stdout",
     "output_type": "stream",
     "text": [
      "State |ψ>:\n",
      "\n",
      "State |ϕ>:\n",
      "\n",
      "Density matrix ρM:\n",
      "\n",
      "Square of the density matrix ρM^2:\n"
     ]
    }
   ],
   "source": [
    "using LinearAlgebra\n",
    "\n",
    "# Define the states |+> and |->\n",
    "plus = [1; 1] / sqrt(2)\n",
    "minus = [1; -1] / sqrt(2)\n",
    "\n",
    "# Define the states |+i> and |-i> (eigenstates of sigma_y)\n",
    "plus_i = [1; im] / sqrt(2)\n",
    "minus_i = [1; -im] / sqrt(2)\n",
    "\n",
    "# Define the states |ψ> and |ϕ>\n",
    "psi = (3 * plus + minus) / sqrt(10)\n",
    "phi = (plus_i - 3 * minus_i) / sqrt(10)\n",
    "\n",
    "# Calculate the density matrices for each state\n",
    "rho_psi = (psi * psi') / 3  # Probability for |ψ> is 1/3\n",
    "rho_phi = (phi * phi') * 2 / 3  # Probability for |ϕ> is 2/3\n",
    "println(\"Density matrix ρψ:\")\n",
    "display(psi')\n",
    "# Calculate the total density matrix ρM\n",
    "rho_M = rho_psi + rho_phi\n",
    "\n",
    "# Calculate the square of the density matrix ρM^2\n",
    "rho_M_squared = rho_M^2\n",
    "\n",
    "# Use display for pretty-printing the output\n",
    "println(\"State |ψ>:\")\n",
    "display(psi)\n",
    "\n",
    "println(\"\\nState |ϕ>:\")\n",
    "display(phi)\n",
    "\n",
    "println(\"\\nDensity matrix ρM:\")\n",
    "display(rho_M)\n",
    "\n",
    "println(\"\\nSquare of the density matrix ρM^2:\")\n",
    "display(rho_M_squared)\n",
    "\n"
   ]
  }
 ],
 "metadata": {
  "kernelspec": {
   "display_name": "Julia 1.8.3",
   "language": "julia",
   "name": "julia-1.8"
  },
  "language_info": {
   "file_extension": ".jl",
   "mimetype": "application/julia",
   "name": "julia",
   "version": "1.8.3"
  }
 },
 "nbformat": 4,
 "nbformat_minor": 2
}
